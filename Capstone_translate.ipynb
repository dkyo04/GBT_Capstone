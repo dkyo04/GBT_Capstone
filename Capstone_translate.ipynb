{
  "cells": [
    {
      "cell_type": "code",
      "execution_count": 1,
      "metadata": {
        "colab": {
          "base_uri": "https://localhost:8080/"
        },
        "id": "8Hq3YOHpwtlo",
        "outputId": "73004908-ce4b-413b-ddc4-6d5cbc255f5d"
      },
      "outputs": [
        {
          "output_type": "stream",
          "name": "stdout",
          "text": [
            "Looking in indexes: https://pypi.org/simple, https://us-python.pkg.dev/colab-wheels/public/simple/\n",
            "Collecting afinn\n",
            "  Downloading afinn-0.1.tar.gz (52 kB)\n",
            "\u001b[2K     \u001b[90m━━━━━━━━━━━━━━━━━━━━━━━━━━━━━━━━━━━━━━━━\u001b[0m \u001b[32m52.6/52.6 kB\u001b[0m \u001b[31m6.2 MB/s\u001b[0m eta \u001b[36m0:00:00\u001b[0m\n",
            "\u001b[?25h  Preparing metadata (setup.py) ... \u001b[?25l\u001b[?25hdone\n",
            "Building wheels for collected packages: afinn\n",
            "  Building wheel for afinn (setup.py) ... \u001b[?25l\u001b[?25hdone\n",
            "  Created wheel for afinn: filename=afinn-0.1-py3-none-any.whl size=53430 sha256=f93f2273410efe4605d89c4d647a549ae2a7c4c39019122eb180aa7d3c143620\n",
            "  Stored in directory: /root/.cache/pip/wheels/b0/05/90/43f79196199a138fb486902fceca30a2d1b5228e6d2db8eb90\n",
            "Successfully built afinn\n",
            "Installing collected packages: afinn\n",
            "Successfully installed afinn-0.1\n"
          ]
        }
      ],
      "source": [
        "!pip install afinn"
      ]
    },
    {
      "cell_type": "code",
      "execution_count": 2,
      "metadata": {
        "id": "Lreq-869g8dj"
      },
      "outputs": [],
      "source": [
        "from sklearn.preprocessing import MinMaxScaler"
      ]
    },
    {
      "cell_type": "code",
      "execution_count": 3,
      "metadata": {
        "id": "-U6B1JMVkfJm"
      },
      "outputs": [],
      "source": [
        "import numpy as np"
      ]
    },
    {
      "cell_type": "code",
      "execution_count": 9,
      "metadata": {
        "colab": {
          "base_uri": "https://localhost:8080/",
          "height": 320
        },
        "id": "LAbK8Jr4xVzb",
        "outputId": "90d03d7e-3826-4fe7-cf49-9b6aa2de127a"
      },
      "outputs": [
        {
          "output_type": "stream",
          "name": "stdout",
          "text": [
            "(136, 6)\n"
          ]
        },
        {
          "output_type": "execute_result",
          "data": {
            "text/plain": [
              "   Unnamed: 0.1  Unnamed: 0  \\\n",
              "0             0           0   \n",
              "1             1           1   \n",
              "2             2           2   \n",
              "3             3           3   \n",
              "4             4           4   \n",
              "\n",
              "                                                   0  \\\n",
              "0  대전에 새로 이사 와서 찾은 집 근처 맛집!!! 첫번째!!!  마라탕과 꿔바로우 현...   \n",
              "1                               맛있긴합니다만ㅠㅠ야채선택해서(숙주)    \n",
              "2                                        정말 맛있습니다^^~   \n",
              "3  친구랑 갔는데 가성비 좋고 깨끗하고 좋았어요 친구는 맛있었다고 했지만 제 취향은 아...   \n",
              "4                              양고기추가에 기름기가 없고 너무 좋아요   \n",
              "\n",
              "                                                   1     2    senti  \n",
              "0  A restaurant near my new house in Daejeon!!! F...   6.0      pos  \n",
              "1           It's deliciousI'll pick the host. (host)   0.0  neutral  \n",
              "2                                It's really good^^~   3.0      pos  \n",
              "3  I went with my friend and it was good and clea...  12.0      pos  \n",
              "4           It's really good because it's not greasy   3.0      pos  "
            ],
            "text/html": [
              "\n",
              "  <div id=\"df-ad1322e5-c52a-4189-9da6-e2543b2c228d\">\n",
              "    <div class=\"colab-df-container\">\n",
              "      <div>\n",
              "<style scoped>\n",
              "    .dataframe tbody tr th:only-of-type {\n",
              "        vertical-align: middle;\n",
              "    }\n",
              "\n",
              "    .dataframe tbody tr th {\n",
              "        vertical-align: top;\n",
              "    }\n",
              "\n",
              "    .dataframe thead th {\n",
              "        text-align: right;\n",
              "    }\n",
              "</style>\n",
              "<table border=\"1\" class=\"dataframe\">\n",
              "  <thead>\n",
              "    <tr style=\"text-align: right;\">\n",
              "      <th></th>\n",
              "      <th>Unnamed: 0.1</th>\n",
              "      <th>Unnamed: 0</th>\n",
              "      <th>0</th>\n",
              "      <th>1</th>\n",
              "      <th>2</th>\n",
              "      <th>senti</th>\n",
              "    </tr>\n",
              "  </thead>\n",
              "  <tbody>\n",
              "    <tr>\n",
              "      <th>0</th>\n",
              "      <td>0</td>\n",
              "      <td>0</td>\n",
              "      <td>대전에 새로 이사 와서 찾은 집 근처 맛집!!! 첫번째!!!  마라탕과 꿔바로우 현...</td>\n",
              "      <td>A restaurant near my new house in Daejeon!!! F...</td>\n",
              "      <td>6.0</td>\n",
              "      <td>pos</td>\n",
              "    </tr>\n",
              "    <tr>\n",
              "      <th>1</th>\n",
              "      <td>1</td>\n",
              "      <td>1</td>\n",
              "      <td>맛있긴합니다만ㅠㅠ야채선택해서(숙주)</td>\n",
              "      <td>It's deliciousI'll pick the host. (host)</td>\n",
              "      <td>0.0</td>\n",
              "      <td>neutral</td>\n",
              "    </tr>\n",
              "    <tr>\n",
              "      <th>2</th>\n",
              "      <td>2</td>\n",
              "      <td>2</td>\n",
              "      <td>정말 맛있습니다^^~</td>\n",
              "      <td>It's really good^^~</td>\n",
              "      <td>3.0</td>\n",
              "      <td>pos</td>\n",
              "    </tr>\n",
              "    <tr>\n",
              "      <th>3</th>\n",
              "      <td>3</td>\n",
              "      <td>3</td>\n",
              "      <td>친구랑 갔는데 가성비 좋고 깨끗하고 좋았어요 친구는 맛있었다고 했지만 제 취향은 아...</td>\n",
              "      <td>I went with my friend and it was good and clea...</td>\n",
              "      <td>12.0</td>\n",
              "      <td>pos</td>\n",
              "    </tr>\n",
              "    <tr>\n",
              "      <th>4</th>\n",
              "      <td>4</td>\n",
              "      <td>4</td>\n",
              "      <td>양고기추가에 기름기가 없고 너무 좋아요</td>\n",
              "      <td>It's really good because it's not greasy</td>\n",
              "      <td>3.0</td>\n",
              "      <td>pos</td>\n",
              "    </tr>\n",
              "  </tbody>\n",
              "</table>\n",
              "</div>\n",
              "      <button class=\"colab-df-convert\" onclick=\"convertToInteractive('df-ad1322e5-c52a-4189-9da6-e2543b2c228d')\"\n",
              "              title=\"Convert this dataframe to an interactive table.\"\n",
              "              style=\"display:none;\">\n",
              "        \n",
              "  <svg xmlns=\"http://www.w3.org/2000/svg\" height=\"24px\"viewBox=\"0 0 24 24\"\n",
              "       width=\"24px\">\n",
              "    <path d=\"M0 0h24v24H0V0z\" fill=\"none\"/>\n",
              "    <path d=\"M18.56 5.44l.94 2.06.94-2.06 2.06-.94-2.06-.94-.94-2.06-.94 2.06-2.06.94zm-11 1L8.5 8.5l.94-2.06 2.06-.94-2.06-.94L8.5 2.5l-.94 2.06-2.06.94zm10 10l.94 2.06.94-2.06 2.06-.94-2.06-.94-.94-2.06-.94 2.06-2.06.94z\"/><path d=\"M17.41 7.96l-1.37-1.37c-.4-.4-.92-.59-1.43-.59-.52 0-1.04.2-1.43.59L10.3 9.45l-7.72 7.72c-.78.78-.78 2.05 0 2.83L4 21.41c.39.39.9.59 1.41.59.51 0 1.02-.2 1.41-.59l7.78-7.78 2.81-2.81c.8-.78.8-2.07 0-2.86zM5.41 20L4 18.59l7.72-7.72 1.47 1.35L5.41 20z\"/>\n",
              "  </svg>\n",
              "      </button>\n",
              "      \n",
              "  <style>\n",
              "    .colab-df-container {\n",
              "      display:flex;\n",
              "      flex-wrap:wrap;\n",
              "      gap: 12px;\n",
              "    }\n",
              "\n",
              "    .colab-df-convert {\n",
              "      background-color: #E8F0FE;\n",
              "      border: none;\n",
              "      border-radius: 50%;\n",
              "      cursor: pointer;\n",
              "      display: none;\n",
              "      fill: #1967D2;\n",
              "      height: 32px;\n",
              "      padding: 0 0 0 0;\n",
              "      width: 32px;\n",
              "    }\n",
              "\n",
              "    .colab-df-convert:hover {\n",
              "      background-color: #E2EBFA;\n",
              "      box-shadow: 0px 1px 2px rgba(60, 64, 67, 0.3), 0px 1px 3px 1px rgba(60, 64, 67, 0.15);\n",
              "      fill: #174EA6;\n",
              "    }\n",
              "\n",
              "    [theme=dark] .colab-df-convert {\n",
              "      background-color: #3B4455;\n",
              "      fill: #D2E3FC;\n",
              "    }\n",
              "\n",
              "    [theme=dark] .colab-df-convert:hover {\n",
              "      background-color: #434B5C;\n",
              "      box-shadow: 0px 1px 3px 1px rgba(0, 0, 0, 0.15);\n",
              "      filter: drop-shadow(0px 1px 2px rgba(0, 0, 0, 0.3));\n",
              "      fill: #FFFFFF;\n",
              "    }\n",
              "  </style>\n",
              "\n",
              "      <script>\n",
              "        const buttonEl =\n",
              "          document.querySelector('#df-ad1322e5-c52a-4189-9da6-e2543b2c228d button.colab-df-convert');\n",
              "        buttonEl.style.display =\n",
              "          google.colab.kernel.accessAllowed ? 'block' : 'none';\n",
              "\n",
              "        async function convertToInteractive(key) {\n",
              "          const element = document.querySelector('#df-ad1322e5-c52a-4189-9da6-e2543b2c228d');\n",
              "          const dataTable =\n",
              "            await google.colab.kernel.invokeFunction('convertToInteractive',\n",
              "                                                     [key], {});\n",
              "          if (!dataTable) return;\n",
              "\n",
              "          const docLinkHtml = 'Like what you see? Visit the ' +\n",
              "            '<a target=\"_blank\" href=https://colab.research.google.com/notebooks/data_table.ipynb>data table notebook</a>'\n",
              "            + ' to learn more about interactive tables.';\n",
              "          element.innerHTML = '';\n",
              "          dataTable['output_type'] = 'display_data';\n",
              "          await google.colab.output.renderOutput(dataTable, element);\n",
              "          const docLink = document.createElement('div');\n",
              "          docLink.innerHTML = docLinkHtml;\n",
              "          element.appendChild(docLink);\n",
              "        }\n",
              "      </script>\n",
              "    </div>\n",
              "  </div>\n",
              "  "
            ]
          },
          "metadata": {},
          "execution_count": 9
        }
      ],
      "source": [
        "import pandas as pd\n",
        "\n",
        "train = pd.read_csv(\"/content/drive/MyDrive/Colab Notebooks/hanjung_final.csv\")\n",
        "print(train.shape)\n",
        "train.head()"
      ]
    },
    {
      "cell_type": "code",
      "execution_count": 22,
      "metadata": {
        "id": "6WK5QPKo6mv9"
      },
      "outputs": [],
      "source": [
        "h1 = pd.read_csv(\"/content/drive/MyDrive/Colab Notebooks/hoho_final.csv\")\n",
        "h2 = pd.read_csv(\"/content/drive/MyDrive/Colab Notebooks/hoho_Kakao_final.csv\")\n",
        "h3 = pd.read_csv(\"/content/drive/MyDrive/Colab Notebooks/hoho_Mango_final.csv\")\n",
        "# h4 = pd.read_csv(\"/content/drive/MyDrive/Colab Notebooks/capstone/panda/Panda_300_to_400.csv\")\n",
        "# h5 = pd.read_csv(\"/content/drive/MyDrive/Colab Notebooks/capstone/panda/Panda_400_to_end.csv\")\n",
        "# h5 = pd.read_csv(\"/content/drive/MyDrive/캡스톤/hoho_400_to_500.csv\")\n",
        "# h6 = pd.read_csv(\"/content/drive/MyDrive/캡스톤/hoho_500_to_600.csv\")\n",
        "# h7 = pd.read_csv(\"/content/drive/MyDrive/캡스톤/hoho_600_to_700.csv\")\n",
        "# h8 = pd.read_csv(\"/content/drive/MyDrive/캡스톤/hoho_700_to_800.csv\")\n",
        "# h9 = pd.read_csv(\"/content/drive/MyDrive/캡스톤/hoho_800_to_900.csv\")\n",
        "# h10 = pd.read_csv(\"/content/drive/MyDrive/캡스톤/hoho_900_to_1000.csv\")\n",
        "# h11 = pd.read_csv(\"/content/drive/MyDrive/캡스톤/hoho_1000_to_1100.csv\")\n",
        "# h12 = pd.read_csv(\"/content/drive/MyDrive/캡스톤/hoho_1100_to_1200.csv\")\n",
        "# h13 = pd.read_csv(\"/content/drive/MyDrive/캡스톤/hoho_1200_to_1300.csv\")\n",
        "# h14 = pd.read_csv(\"/content/drive/MyDrive/캡스톤/hoho_1300_to_1400.csv\")\n",
        "# h15 = pd.read_csv(\"/content/drive/MyDrive/캡스톤/hoho_1400_to_end.csv\")\n"
      ]
    },
    {
      "cell_type": "code",
      "execution_count": 15,
      "metadata": {
        "id": "kejQsuN-AXg7",
        "colab": {
          "base_uri": "https://localhost:8080/",
          "height": 717
        },
        "outputId": "3c4709fa-0c3a-4f91-c3a0-d849697f0f84"
      },
      "outputs": [
        {
          "output_type": "execute_result",
          "data": {
            "text/plain": [
              "    Unnamed: 0                                                  0  \\\n",
              "0            0  메뉴가 상당히많아요다른 손님은 뭐먹나봤더니 다들 메뉴가 다양했어요저희는 평일 늦은시...   \n",
              "1            1                                                  .   \n",
              "2            2  드디어 호호식당에 입성했네요. 줄이 너무 길어서 그냥 지나쳤었는데..^^ 역시 평일...   \n",
              "3            3  혜화에 갈 때마다 웨이팅이 있어 늘 궁금했던 곳이다.하지만 웨이팅을 싫어하기에 쉽게...   \n",
              "4            4  히레카츠랑 사케동을 시켰다. 맛은 평범했고 특유의 가게 인테리어와 디자인은 상당히 ...   \n",
              "5            5  맛있다를 할까 괜찮다를 할까 고민하다가 괜찮다로 결정맛은 있으나 웨이팅과 가격을 생...   \n",
              "6            6  호호식당 본점인 대학로점은 한옥을 개조한 곳이어서 좋았어요. 호호식당에서 판매하는 ...   \n",
              "7            7  최애메뉴는 사케도로동, 차애는 명란오일파스타랑 스키야키.항상 줄이 길다는 것이 흠이...   \n",
              "8            8  카이센동 먹으러 갔는데 재료소진 ㅠㅠㅠ하지만 메뉴 둘 다 짱 맛있게 잘 먹고 왔습니...   \n",
              "9            9  가츠나베정식. 스키야키정식. 애플진저에일. 한옥을 개조해서 만든 일식집. 마당에는 ...   \n",
              "10          10  역시 여기는 평일 점심에 와야해요... 웨이팅 없이 바로 들어갔는데, 마침 예약룸도...   \n",
              "11          11  친한 친구의 생일이라서 미리 룸을 예약하고 갔던 호호식당 예약 하지않고 주말에 방문...   \n",
              "12          12  그냥 무난무난한 맛. 외관이 이뻐서 그런가 웨이팅이 긴 곳. 정갈하게 나오며 칼라 ...   \n",
              "13          13  ⭐⭐⭐☆☆오므라이스 (11.0).학교 뒤 후문으로 나와 걸어가다보면 늘 궁금증을 자...   \n",
              "14          14  스키야키 정식과 돈테키 정식을 먹었다. 스키야키는 끓일 때 작은 양초로 끓이는데, ...   \n",
              "15          15  브레이크 타임 직전에 도착해서 오래 기다리지 않고 들어갔어요다 먹고 나올때쯤 줄이 ...   \n",
              "\n",
              "                                                    1     2  \n",
              "0   It's a little small, but it's delicious.But I ...   6.0  \n",
              "1   I went at 5 o'clock on weekdays, but fortunate...   0.0  \n",
              "2   The wait is really long. It tastes good. Quali...   2.0  \n",
              "3   It's pretty, but it tastes good, and the atmos...  12.0  \n",
              "4   The price is a little high and the waiting is ...   5.0  \n",
              "5   It's so good. The waiting is so good. I think ...   3.0  \n",
              "6   After eating, I laughed out loud LOL The atmos...   9.0  \n",
              "7   I got a 0총 rating, but it seems like you hav...   6.0  \n",
              "8   The salmon is really thick! The rice is soft a...   2.0  \n",
              "9   The atmosphere is better than the food. I orde...  22.0  \n",
              "10                                                NaN  15.0  \n",
              "11                                                NaN  17.0  \n",
              "12                                                NaN   4.0  \n",
              "13                                                NaN  43.0  \n",
              "14                                                NaN   3.0  \n",
              "15                                                NaN  13.0  "
            ],
            "text/html": [
              "\n",
              "  <div id=\"df-8134c902-1926-4f13-b0d8-91189dfa4ac7\">\n",
              "    <div class=\"colab-df-container\">\n",
              "      <div>\n",
              "<style scoped>\n",
              "    .dataframe tbody tr th:only-of-type {\n",
              "        vertical-align: middle;\n",
              "    }\n",
              "\n",
              "    .dataframe tbody tr th {\n",
              "        vertical-align: top;\n",
              "    }\n",
              "\n",
              "    .dataframe thead th {\n",
              "        text-align: right;\n",
              "    }\n",
              "</style>\n",
              "<table border=\"1\" class=\"dataframe\">\n",
              "  <thead>\n",
              "    <tr style=\"text-align: right;\">\n",
              "      <th></th>\n",
              "      <th>Unnamed: 0</th>\n",
              "      <th>0</th>\n",
              "      <th>1</th>\n",
              "      <th>2</th>\n",
              "    </tr>\n",
              "  </thead>\n",
              "  <tbody>\n",
              "    <tr>\n",
              "      <th>0</th>\n",
              "      <td>0</td>\n",
              "      <td>메뉴가 상당히많아요다른 손님은 뭐먹나봤더니 다들 메뉴가 다양했어요저희는 평일 늦은시...</td>\n",
              "      <td>It's a little small, but it's delicious.But I ...</td>\n",
              "      <td>6.0</td>\n",
              "    </tr>\n",
              "    <tr>\n",
              "      <th>1</th>\n",
              "      <td>1</td>\n",
              "      <td>.</td>\n",
              "      <td>I went at 5 o'clock on weekdays, but fortunate...</td>\n",
              "      <td>0.0</td>\n",
              "    </tr>\n",
              "    <tr>\n",
              "      <th>2</th>\n",
              "      <td>2</td>\n",
              "      <td>드디어 호호식당에 입성했네요. 줄이 너무 길어서 그냥 지나쳤었는데..^^ 역시 평일...</td>\n",
              "      <td>The wait is really long. It tastes good. Quali...</td>\n",
              "      <td>2.0</td>\n",
              "    </tr>\n",
              "    <tr>\n",
              "      <th>3</th>\n",
              "      <td>3</td>\n",
              "      <td>혜화에 갈 때마다 웨이팅이 있어 늘 궁금했던 곳이다.하지만 웨이팅을 싫어하기에 쉽게...</td>\n",
              "      <td>It's pretty, but it tastes good, and the atmos...</td>\n",
              "      <td>12.0</td>\n",
              "    </tr>\n",
              "    <tr>\n",
              "      <th>4</th>\n",
              "      <td>4</td>\n",
              "      <td>히레카츠랑 사케동을 시켰다. 맛은 평범했고 특유의 가게 인테리어와 디자인은 상당히 ...</td>\n",
              "      <td>The price is a little high and the waiting is ...</td>\n",
              "      <td>5.0</td>\n",
              "    </tr>\n",
              "    <tr>\n",
              "      <th>5</th>\n",
              "      <td>5</td>\n",
              "      <td>맛있다를 할까 괜찮다를 할까 고민하다가 괜찮다로 결정맛은 있으나 웨이팅과 가격을 생...</td>\n",
              "      <td>It's so good. The waiting is so good. I think ...</td>\n",
              "      <td>3.0</td>\n",
              "    </tr>\n",
              "    <tr>\n",
              "      <th>6</th>\n",
              "      <td>6</td>\n",
              "      <td>호호식당 본점인 대학로점은 한옥을 개조한 곳이어서 좋았어요. 호호식당에서 판매하는 ...</td>\n",
              "      <td>After eating, I laughed out loud LOL The atmos...</td>\n",
              "      <td>9.0</td>\n",
              "    </tr>\n",
              "    <tr>\n",
              "      <th>7</th>\n",
              "      <td>7</td>\n",
              "      <td>최애메뉴는 사케도로동, 차애는 명란오일파스타랑 스키야키.항상 줄이 길다는 것이 흠이...</td>\n",
              "      <td>I got a 0총 rating, but it seems like you hav...</td>\n",
              "      <td>6.0</td>\n",
              "    </tr>\n",
              "    <tr>\n",
              "      <th>8</th>\n",
              "      <td>8</td>\n",
              "      <td>카이센동 먹으러 갔는데 재료소진 ㅠㅠㅠ하지만 메뉴 둘 다 짱 맛있게 잘 먹고 왔습니...</td>\n",
              "      <td>The salmon is really thick! The rice is soft a...</td>\n",
              "      <td>2.0</td>\n",
              "    </tr>\n",
              "    <tr>\n",
              "      <th>9</th>\n",
              "      <td>9</td>\n",
              "      <td>가츠나베정식. 스키야키정식. 애플진저에일. 한옥을 개조해서 만든 일식집. 마당에는 ...</td>\n",
              "      <td>The atmosphere is better than the food. I orde...</td>\n",
              "      <td>22.0</td>\n",
              "    </tr>\n",
              "    <tr>\n",
              "      <th>10</th>\n",
              "      <td>10</td>\n",
              "      <td>역시 여기는 평일 점심에 와야해요... 웨이팅 없이 바로 들어갔는데, 마침 예약룸도...</td>\n",
              "      <td>NaN</td>\n",
              "      <td>15.0</td>\n",
              "    </tr>\n",
              "    <tr>\n",
              "      <th>11</th>\n",
              "      <td>11</td>\n",
              "      <td>친한 친구의 생일이라서 미리 룸을 예약하고 갔던 호호식당 예약 하지않고 주말에 방문...</td>\n",
              "      <td>NaN</td>\n",
              "      <td>17.0</td>\n",
              "    </tr>\n",
              "    <tr>\n",
              "      <th>12</th>\n",
              "      <td>12</td>\n",
              "      <td>그냥 무난무난한 맛. 외관이 이뻐서 그런가 웨이팅이 긴 곳. 정갈하게 나오며 칼라 ...</td>\n",
              "      <td>NaN</td>\n",
              "      <td>4.0</td>\n",
              "    </tr>\n",
              "    <tr>\n",
              "      <th>13</th>\n",
              "      <td>13</td>\n",
              "      <td>⭐⭐⭐☆☆오므라이스 (11.0).학교 뒤 후문으로 나와 걸어가다보면 늘 궁금증을 자...</td>\n",
              "      <td>NaN</td>\n",
              "      <td>43.0</td>\n",
              "    </tr>\n",
              "    <tr>\n",
              "      <th>14</th>\n",
              "      <td>14</td>\n",
              "      <td>스키야키 정식과 돈테키 정식을 먹었다. 스키야키는 끓일 때 작은 양초로 끓이는데, ...</td>\n",
              "      <td>NaN</td>\n",
              "      <td>3.0</td>\n",
              "    </tr>\n",
              "    <tr>\n",
              "      <th>15</th>\n",
              "      <td>15</td>\n",
              "      <td>브레이크 타임 직전에 도착해서 오래 기다리지 않고 들어갔어요다 먹고 나올때쯤 줄이 ...</td>\n",
              "      <td>NaN</td>\n",
              "      <td>13.0</td>\n",
              "    </tr>\n",
              "  </tbody>\n",
              "</table>\n",
              "</div>\n",
              "      <button class=\"colab-df-convert\" onclick=\"convertToInteractive('df-8134c902-1926-4f13-b0d8-91189dfa4ac7')\"\n",
              "              title=\"Convert this dataframe to an interactive table.\"\n",
              "              style=\"display:none;\">\n",
              "        \n",
              "  <svg xmlns=\"http://www.w3.org/2000/svg\" height=\"24px\"viewBox=\"0 0 24 24\"\n",
              "       width=\"24px\">\n",
              "    <path d=\"M0 0h24v24H0V0z\" fill=\"none\"/>\n",
              "    <path d=\"M18.56 5.44l.94 2.06.94-2.06 2.06-.94-2.06-.94-.94-2.06-.94 2.06-2.06.94zm-11 1L8.5 8.5l.94-2.06 2.06-.94-2.06-.94L8.5 2.5l-.94 2.06-2.06.94zm10 10l.94 2.06.94-2.06 2.06-.94-2.06-.94-.94-2.06-.94 2.06-2.06.94z\"/><path d=\"M17.41 7.96l-1.37-1.37c-.4-.4-.92-.59-1.43-.59-.52 0-1.04.2-1.43.59L10.3 9.45l-7.72 7.72c-.78.78-.78 2.05 0 2.83L4 21.41c.39.39.9.59 1.41.59.51 0 1.02-.2 1.41-.59l7.78-7.78 2.81-2.81c.8-.78.8-2.07 0-2.86zM5.41 20L4 18.59l7.72-7.72 1.47 1.35L5.41 20z\"/>\n",
              "  </svg>\n",
              "      </button>\n",
              "      \n",
              "  <style>\n",
              "    .colab-df-container {\n",
              "      display:flex;\n",
              "      flex-wrap:wrap;\n",
              "      gap: 12px;\n",
              "    }\n",
              "\n",
              "    .colab-df-convert {\n",
              "      background-color: #E8F0FE;\n",
              "      border: none;\n",
              "      border-radius: 50%;\n",
              "      cursor: pointer;\n",
              "      display: none;\n",
              "      fill: #1967D2;\n",
              "      height: 32px;\n",
              "      padding: 0 0 0 0;\n",
              "      width: 32px;\n",
              "    }\n",
              "\n",
              "    .colab-df-convert:hover {\n",
              "      background-color: #E2EBFA;\n",
              "      box-shadow: 0px 1px 2px rgba(60, 64, 67, 0.3), 0px 1px 3px 1px rgba(60, 64, 67, 0.15);\n",
              "      fill: #174EA6;\n",
              "    }\n",
              "\n",
              "    [theme=dark] .colab-df-convert {\n",
              "      background-color: #3B4455;\n",
              "      fill: #D2E3FC;\n",
              "    }\n",
              "\n",
              "    [theme=dark] .colab-df-convert:hover {\n",
              "      background-color: #434B5C;\n",
              "      box-shadow: 0px 1px 3px 1px rgba(0, 0, 0, 0.15);\n",
              "      filter: drop-shadow(0px 1px 2px rgba(0, 0, 0, 0.3));\n",
              "      fill: #FFFFFF;\n",
              "    }\n",
              "  </style>\n",
              "\n",
              "      <script>\n",
              "        const buttonEl =\n",
              "          document.querySelector('#df-8134c902-1926-4f13-b0d8-91189dfa4ac7 button.colab-df-convert');\n",
              "        buttonEl.style.display =\n",
              "          google.colab.kernel.accessAllowed ? 'block' : 'none';\n",
              "\n",
              "        async function convertToInteractive(key) {\n",
              "          const element = document.querySelector('#df-8134c902-1926-4f13-b0d8-91189dfa4ac7');\n",
              "          const dataTable =\n",
              "            await google.colab.kernel.invokeFunction('convertToInteractive',\n",
              "                                                     [key], {});\n",
              "          if (!dataTable) return;\n",
              "\n",
              "          const docLinkHtml = 'Like what you see? Visit the ' +\n",
              "            '<a target=\"_blank\" href=https://colab.research.google.com/notebooks/data_table.ipynb>data table notebook</a>'\n",
              "            + ' to learn more about interactive tables.';\n",
              "          element.innerHTML = '';\n",
              "          dataTable['output_type'] = 'display_data';\n",
              "          await google.colab.output.renderOutput(dataTable, element);\n",
              "          const docLink = document.createElement('div');\n",
              "          docLink.innerHTML = docLinkHtml;\n",
              "          element.appendChild(docLink);\n",
              "        }\n",
              "      </script>\n",
              "    </div>\n",
              "  </div>\n",
              "  "
            ]
          },
          "metadata": {},
          "execution_count": 15
        }
      ],
      "source": [
        "h1"
      ]
    },
    {
      "cell_type": "code",
      "execution_count": null,
      "metadata": {
        "colab": {
          "base_uri": "https://localhost:8080/"
        },
        "id": "iccv7yVG7f1S",
        "outputId": "7865b97c-a662-4087-adb1-f3b9a15bad8f"
      },
      "outputs": [
        {
          "data": {
            "text/plain": [
              "0                                                     굳\n",
              "1     진짜 너무 맛있어요ㅠㅠ\\n서울에 친구 보러갈때마다 거의 사케동 먹는데 적당히 기름지...\n",
              "2                             분위기좋고 맛있고 직원분들도 친절하고 좋아요!\n",
              "3                         고즈넉한 한옥에서 정갈하고 맛있는 음식을 먹었어요\\n\n",
              "4                                            히레 꼭 드세요!!\n",
              "                            ...                        \n",
              "95                                           파스타 맛집입니다.\n",
              "96    깔끔하고 맛은 있는데 양이 적고 가격이 비쌉니다.. 반찬 구성이라도 다양해지면 좋을...\n",
              "97                                                  맛나요\n",
              "98                                            음식이 맛있어요~\n",
              "99                                              좋았어요: )\n",
              "Name: 0, Length: 100, dtype: object"
            ]
          },
          "execution_count": 32,
          "metadata": {},
          "output_type": "execute_result"
        }
      ],
      "source": [
        "h2['0']"
      ]
    },
    {
      "cell_type": "code",
      "execution_count": 23,
      "metadata": {
        "id": "vA5ictg991jg"
      },
      "outputs": [],
      "source": [
        "new_df=pd.concat([h1,h2,h3],ignore_index=True)"
      ]
    },
    {
      "cell_type": "code",
      "execution_count": 24,
      "metadata": {
        "id": "goLC6iD2WcwO",
        "colab": {
          "base_uri": "https://localhost:8080/",
          "height": 659
        },
        "outputId": "2e3a79f4-b903-4e5b-9593-9bac01453f24"
      },
      "outputs": [
        {
          "output_type": "execute_result",
          "data": {
            "text/plain": [
              "      Unnamed: 0.1  Unnamed: 0  \\\n",
              "0                0           0   \n",
              "1                1           1   \n",
              "2                2           2   \n",
              "3                3           3   \n",
              "4                4           4   \n",
              "...            ...         ...   \n",
              "1743           123          18   \n",
              "1744           124          19   \n",
              "1745           125          20   \n",
              "1746           126          21   \n",
              "1747           127          22   \n",
              "\n",
              "                                                      0  \\\n",
              "0     한옥집 마당에 앉아서 기다리다가 자리가 나서 안으로 들어가서 맛있는 식사를 했어요\\...   \n",
              "1     항상 대기가 많아보여서 엄두를 못 냈는데 생각보다 웨이팅도 빨리 빠지고 회전율이 빨...   \n",
              "2     혜화 주민이라 자주갔는데,혜화에서 약속잡기 좋은 식당이라고 생각합니다. 생각보다 마...   \n",
              "3     주중인데도 웨이팅있을만큼 인기있는 곳 매장 직원들이 친절하고 음식 맛도 좋아용!! ...   \n",
              "4     혜화에 방문한다면 젤 추천하고 싶은 밥집이에여! 친절하고 예쁘고 오픈시간부터 우르르...   \n",
              "...                                                 ...   \n",
              "1743  한옥에서 맛보는 일식^.^ 위장이 큰 사람에겐 조금 아쉬울 수 있어요!원래 찜마니 ...   \n",
              "1744      맛있어요 분위기도 괜찮고 새로만들어서 깔끔합니다. 분위기랑 맛 대비 가성비도 굳.   \n",
              "1745  대학로 소나무길에 새로 생긴 일본 가정식 \"호호식당\". 누가 성균관대 맛집을 물어본...   \n",
              "1746  우선 예쁘니까 반절은 먹고 들어가는 곳사케동이고 뭐고 다 맛 보다 그 분위기에 취해...   \n",
              "1747  Absolutely love this beautiful restaurant. Set...   \n",
              "\n",
              "                                                      1     2 senti  \n",
              "0     I was waiting in the yard of the hanok house, ...  11.0   pos  \n",
              "1     It always looked like there was a lot of waiti...  11.0   pos  \n",
              "2     I went there often because I'm a resident of H...  27.0   pos  \n",
              "3     The store staff is so popular that they can wa...   7.0   pos  \n",
              "4     If you visit Hyehwa, it's a restaurant that I ...  11.0   pos  \n",
              "...                                                 ...   ...   ...  \n",
              "1743  Japanese food you can taste in Hanok.^ It can ...  32.0   pos  \n",
              "1744  It's good. The atmosphere is good, and it's cl...  12.0   pos  \n",
              "1745  The new Japanese home-style \"Ho Ho Restaurant\"...  44.0   pos  \n",
              "1746  Since it's pretty, I think half of it tastes b...   1.0   pos  \n",
              "1747  Absolutely love this beautiful restaurant. Set...  11.0   pos  \n",
              "\n",
              "[1748 rows x 6 columns]"
            ],
            "text/html": [
              "\n",
              "  <div id=\"df-c32e5921-1781-4d29-a35e-b5e2dccbf59b\">\n",
              "    <div class=\"colab-df-container\">\n",
              "      <div>\n",
              "<style scoped>\n",
              "    .dataframe tbody tr th:only-of-type {\n",
              "        vertical-align: middle;\n",
              "    }\n",
              "\n",
              "    .dataframe tbody tr th {\n",
              "        vertical-align: top;\n",
              "    }\n",
              "\n",
              "    .dataframe thead th {\n",
              "        text-align: right;\n",
              "    }\n",
              "</style>\n",
              "<table border=\"1\" class=\"dataframe\">\n",
              "  <thead>\n",
              "    <tr style=\"text-align: right;\">\n",
              "      <th></th>\n",
              "      <th>Unnamed: 0.1</th>\n",
              "      <th>Unnamed: 0</th>\n",
              "      <th>0</th>\n",
              "      <th>1</th>\n",
              "      <th>2</th>\n",
              "      <th>senti</th>\n",
              "    </tr>\n",
              "  </thead>\n",
              "  <tbody>\n",
              "    <tr>\n",
              "      <th>0</th>\n",
              "      <td>0</td>\n",
              "      <td>0</td>\n",
              "      <td>한옥집 마당에 앉아서 기다리다가 자리가 나서 안으로 들어가서 맛있는 식사를 했어요\\...</td>\n",
              "      <td>I was waiting in the yard of the hanok house, ...</td>\n",
              "      <td>11.0</td>\n",
              "      <td>pos</td>\n",
              "    </tr>\n",
              "    <tr>\n",
              "      <th>1</th>\n",
              "      <td>1</td>\n",
              "      <td>1</td>\n",
              "      <td>항상 대기가 많아보여서 엄두를 못 냈는데 생각보다 웨이팅도 빨리 빠지고 회전율이 빨...</td>\n",
              "      <td>It always looked like there was a lot of waiti...</td>\n",
              "      <td>11.0</td>\n",
              "      <td>pos</td>\n",
              "    </tr>\n",
              "    <tr>\n",
              "      <th>2</th>\n",
              "      <td>2</td>\n",
              "      <td>2</td>\n",
              "      <td>혜화 주민이라 자주갔는데,혜화에서 약속잡기 좋은 식당이라고 생각합니다. 생각보다 마...</td>\n",
              "      <td>I went there often because I'm a resident of H...</td>\n",
              "      <td>27.0</td>\n",
              "      <td>pos</td>\n",
              "    </tr>\n",
              "    <tr>\n",
              "      <th>3</th>\n",
              "      <td>3</td>\n",
              "      <td>3</td>\n",
              "      <td>주중인데도 웨이팅있을만큼 인기있는 곳 매장 직원들이 친절하고 음식 맛도 좋아용!! ...</td>\n",
              "      <td>The store staff is so popular that they can wa...</td>\n",
              "      <td>7.0</td>\n",
              "      <td>pos</td>\n",
              "    </tr>\n",
              "    <tr>\n",
              "      <th>4</th>\n",
              "      <td>4</td>\n",
              "      <td>4</td>\n",
              "      <td>혜화에 방문한다면 젤 추천하고 싶은 밥집이에여! 친절하고 예쁘고 오픈시간부터 우르르...</td>\n",
              "      <td>If you visit Hyehwa, it's a restaurant that I ...</td>\n",
              "      <td>11.0</td>\n",
              "      <td>pos</td>\n",
              "    </tr>\n",
              "    <tr>\n",
              "      <th>...</th>\n",
              "      <td>...</td>\n",
              "      <td>...</td>\n",
              "      <td>...</td>\n",
              "      <td>...</td>\n",
              "      <td>...</td>\n",
              "      <td>...</td>\n",
              "    </tr>\n",
              "    <tr>\n",
              "      <th>1743</th>\n",
              "      <td>123</td>\n",
              "      <td>18</td>\n",
              "      <td>한옥에서 맛보는 일식^.^ 위장이 큰 사람에겐 조금 아쉬울 수 있어요!원래 찜마니 ...</td>\n",
              "      <td>Japanese food you can taste in Hanok.^ It can ...</td>\n",
              "      <td>32.0</td>\n",
              "      <td>pos</td>\n",
              "    </tr>\n",
              "    <tr>\n",
              "      <th>1744</th>\n",
              "      <td>124</td>\n",
              "      <td>19</td>\n",
              "      <td>맛있어요 분위기도 괜찮고 새로만들어서 깔끔합니다. 분위기랑 맛 대비 가성비도 굳.</td>\n",
              "      <td>It's good. The atmosphere is good, and it's cl...</td>\n",
              "      <td>12.0</td>\n",
              "      <td>pos</td>\n",
              "    </tr>\n",
              "    <tr>\n",
              "      <th>1745</th>\n",
              "      <td>125</td>\n",
              "      <td>20</td>\n",
              "      <td>대학로 소나무길에 새로 생긴 일본 가정식 \"호호식당\". 누가 성균관대 맛집을 물어본...</td>\n",
              "      <td>The new Japanese home-style \"Ho Ho Restaurant\"...</td>\n",
              "      <td>44.0</td>\n",
              "      <td>pos</td>\n",
              "    </tr>\n",
              "    <tr>\n",
              "      <th>1746</th>\n",
              "      <td>126</td>\n",
              "      <td>21</td>\n",
              "      <td>우선 예쁘니까 반절은 먹고 들어가는 곳사케동이고 뭐고 다 맛 보다 그 분위기에 취해...</td>\n",
              "      <td>Since it's pretty, I think half of it tastes b...</td>\n",
              "      <td>1.0</td>\n",
              "      <td>pos</td>\n",
              "    </tr>\n",
              "    <tr>\n",
              "      <th>1747</th>\n",
              "      <td>127</td>\n",
              "      <td>22</td>\n",
              "      <td>Absolutely love this beautiful restaurant. Set...</td>\n",
              "      <td>Absolutely love this beautiful restaurant. Set...</td>\n",
              "      <td>11.0</td>\n",
              "      <td>pos</td>\n",
              "    </tr>\n",
              "  </tbody>\n",
              "</table>\n",
              "<p>1748 rows × 6 columns</p>\n",
              "</div>\n",
              "      <button class=\"colab-df-convert\" onclick=\"convertToInteractive('df-c32e5921-1781-4d29-a35e-b5e2dccbf59b')\"\n",
              "              title=\"Convert this dataframe to an interactive table.\"\n",
              "              style=\"display:none;\">\n",
              "        \n",
              "  <svg xmlns=\"http://www.w3.org/2000/svg\" height=\"24px\"viewBox=\"0 0 24 24\"\n",
              "       width=\"24px\">\n",
              "    <path d=\"M0 0h24v24H0V0z\" fill=\"none\"/>\n",
              "    <path d=\"M18.56 5.44l.94 2.06.94-2.06 2.06-.94-2.06-.94-.94-2.06-.94 2.06-2.06.94zm-11 1L8.5 8.5l.94-2.06 2.06-.94-2.06-.94L8.5 2.5l-.94 2.06-2.06.94zm10 10l.94 2.06.94-2.06 2.06-.94-2.06-.94-.94-2.06-.94 2.06-2.06.94z\"/><path d=\"M17.41 7.96l-1.37-1.37c-.4-.4-.92-.59-1.43-.59-.52 0-1.04.2-1.43.59L10.3 9.45l-7.72 7.72c-.78.78-.78 2.05 0 2.83L4 21.41c.39.39.9.59 1.41.59.51 0 1.02-.2 1.41-.59l7.78-7.78 2.81-2.81c.8-.78.8-2.07 0-2.86zM5.41 20L4 18.59l7.72-7.72 1.47 1.35L5.41 20z\"/>\n",
              "  </svg>\n",
              "      </button>\n",
              "      \n",
              "  <style>\n",
              "    .colab-df-container {\n",
              "      display:flex;\n",
              "      flex-wrap:wrap;\n",
              "      gap: 12px;\n",
              "    }\n",
              "\n",
              "    .colab-df-convert {\n",
              "      background-color: #E8F0FE;\n",
              "      border: none;\n",
              "      border-radius: 50%;\n",
              "      cursor: pointer;\n",
              "      display: none;\n",
              "      fill: #1967D2;\n",
              "      height: 32px;\n",
              "      padding: 0 0 0 0;\n",
              "      width: 32px;\n",
              "    }\n",
              "\n",
              "    .colab-df-convert:hover {\n",
              "      background-color: #E2EBFA;\n",
              "      box-shadow: 0px 1px 2px rgba(60, 64, 67, 0.3), 0px 1px 3px 1px rgba(60, 64, 67, 0.15);\n",
              "      fill: #174EA6;\n",
              "    }\n",
              "\n",
              "    [theme=dark] .colab-df-convert {\n",
              "      background-color: #3B4455;\n",
              "      fill: #D2E3FC;\n",
              "    }\n",
              "\n",
              "    [theme=dark] .colab-df-convert:hover {\n",
              "      background-color: #434B5C;\n",
              "      box-shadow: 0px 1px 3px 1px rgba(0, 0, 0, 0.15);\n",
              "      filter: drop-shadow(0px 1px 2px rgba(0, 0, 0, 0.3));\n",
              "      fill: #FFFFFF;\n",
              "    }\n",
              "  </style>\n",
              "\n",
              "      <script>\n",
              "        const buttonEl =\n",
              "          document.querySelector('#df-c32e5921-1781-4d29-a35e-b5e2dccbf59b button.colab-df-convert');\n",
              "        buttonEl.style.display =\n",
              "          google.colab.kernel.accessAllowed ? 'block' : 'none';\n",
              "\n",
              "        async function convertToInteractive(key) {\n",
              "          const element = document.querySelector('#df-c32e5921-1781-4d29-a35e-b5e2dccbf59b');\n",
              "          const dataTable =\n",
              "            await google.colab.kernel.invokeFunction('convertToInteractive',\n",
              "                                                     [key], {});\n",
              "          if (!dataTable) return;\n",
              "\n",
              "          const docLinkHtml = 'Like what you see? Visit the ' +\n",
              "            '<a target=\"_blank\" href=https://colab.research.google.com/notebooks/data_table.ipynb>data table notebook</a>'\n",
              "            + ' to learn more about interactive tables.';\n",
              "          element.innerHTML = '';\n",
              "          dataTable['output_type'] = 'display_data';\n",
              "          await google.colab.output.renderOutput(dataTable, element);\n",
              "          const docLink = document.createElement('div');\n",
              "          docLink.innerHTML = docLinkHtml;\n",
              "          element.appendChild(docLink);\n",
              "        }\n",
              "      </script>\n",
              "    </div>\n",
              "  </div>\n",
              "  "
            ]
          },
          "metadata": {},
          "execution_count": 24
        }
      ],
      "source": [
        "new_df"
      ]
    },
    {
      "cell_type": "code",
      "execution_count": null,
      "metadata": {
        "id": "7PnltH1g_i4H"
      },
      "outputs": [],
      "source": [
        "new_df=train"
      ]
    },
    {
      "cell_type": "code",
      "execution_count": 13,
      "metadata": {
        "colab": {
          "base_uri": "https://localhost:8080/"
        },
        "id": "38Xhpa8xEJmF",
        "outputId": "705f9c0b-15b7-47b8-b948-acfb69cde491"
      },
      "outputs": [
        {
          "output_type": "execute_result",
          "data": {
            "text/plain": [
              "0      6.0\n",
              "1      0.0\n",
              "2      2.0\n",
              "3     12.0\n",
              "4      5.0\n",
              "5      3.0\n",
              "6      9.0\n",
              "7      6.0\n",
              "8      2.0\n",
              "9     22.0\n",
              "10    15.0\n",
              "11    17.0\n",
              "12     4.0\n",
              "13    43.0\n",
              "14     3.0\n",
              "15    13.0\n",
              "16     3.0\n",
              "17    17.0\n",
              "18    10.0\n",
              "19    26.0\n",
              "20     0.0\n",
              "21     9.0\n",
              "22    14.0\n",
              "23    58.0\n",
              "24    17.0\n",
              "25    28.0\n",
              "26    36.0\n",
              "27    12.0\n",
              "28    12.0\n",
              "29     9.0\n",
              "30    17.0\n",
              "31    11.0\n",
              "32    19.0\n",
              "33    16.0\n",
              "34    32.0\n",
              "35    12.0\n",
              "36    44.0\n",
              "37     1.0\n",
              "38    11.0\n",
              "Name: 2, dtype: float64"
            ]
          },
          "metadata": {},
          "execution_count": 13
        }
      ],
      "source": [
        "new_df['2']"
      ]
    },
    {
      "cell_type": "code",
      "execution_count": 19,
      "metadata": {
        "id": "Aw6j4yvVCSUR"
      },
      "outputs": [],
      "source": [
        "senti=[]\n",
        "for row in new_df['2']:\n",
        "  if row >0:\n",
        "    senti.append(\"pos\")\n",
        "  elif row == 0:\n",
        "    senti.append(\"neutral\")\n",
        "  else:\n",
        "    senti.append(\"neg\")\n",
        "\n",
        "new_df['senti']=senti"
      ]
    },
    {
      "cell_type": "code",
      "execution_count": 20,
      "metadata": {
        "colab": {
          "base_uri": "https://localhost:8080/",
          "height": 641
        },
        "id": "P-eQe9YiEwow",
        "outputId": "ac564f23-338b-492c-fcf1-7c30aee97642"
      },
      "outputs": [
        {
          "output_type": "execute_result",
          "data": {
            "text/plain": [
              "     Unnamed: 0                                                  0  \\\n",
              "0             0  메뉴가 상당히많아요다른 손님은 뭐먹나봤더니 다들 메뉴가 다양했어요저희는 평일 늦은시...   \n",
              "1             1                                                  .   \n",
              "2             2  드디어 호호식당에 입성했네요. 줄이 너무 길어서 그냥 지나쳤었는데..^^ 역시 평일...   \n",
              "3             3  혜화에 갈 때마다 웨이팅이 있어 늘 궁금했던 곳이다.하지만 웨이팅을 싫어하기에 쉽게...   \n",
              "4             4  히레카츠랑 사케동을 시켰다. 맛은 평범했고 특유의 가게 인테리어와 디자인은 상당히 ...   \n",
              "..          ...                                                ...   \n",
              "123          18  한옥에서 맛보는 일식^.^ 위장이 큰 사람에겐 조금 아쉬울 수 있어요!원래 찜마니 ...   \n",
              "124          19      맛있어요 분위기도 괜찮고 새로만들어서 깔끔합니다. 분위기랑 맛 대비 가성비도 굳.   \n",
              "125          20  대학로 소나무길에 새로 생긴 일본 가정식 \"호호식당\". 누가 성균관대 맛집을 물어본...   \n",
              "126          21  우선 예쁘니까 반절은 먹고 들어가는 곳사케동이고 뭐고 다 맛 보다 그 분위기에 취해...   \n",
              "127          22  Absolutely love this beautiful restaurant. Set...   \n",
              "\n",
              "                                                     1     2    senti  \n",
              "0    There are a lot of menusI looked at what other...   6.0      pos  \n",
              "1                                                    .   0.0  neutral  \n",
              "2    Finally, we're in Ho-Ho restaurant. The line w...   2.0      pos  \n",
              "3    Whenever I went to Hyehwa, there was a waiting...  12.0      pos  \n",
              "4    I ordered hirekatsu and sake dong. The taste w...   5.0      pos  \n",
              "..                                                 ...   ...      ...  \n",
              "123  Japanese food you can taste in Hanok.^ It can ...  32.0      pos  \n",
              "124  It's good. The atmosphere is good, and it's cl...  12.0      pos  \n",
              "125  The new Japanese home-style \"Ho Ho Restaurant\"...  44.0      pos  \n",
              "126  Since it's pretty, I think half of it tastes b...   1.0      pos  \n",
              "127  Absolutely love this beautiful restaurant. Set...  11.0      pos  \n",
              "\n",
              "[128 rows x 5 columns]"
            ],
            "text/html": [
              "\n",
              "  <div id=\"df-abb0febb-0de0-4c24-98ca-7809506e8e2c\">\n",
              "    <div class=\"colab-df-container\">\n",
              "      <div>\n",
              "<style scoped>\n",
              "    .dataframe tbody tr th:only-of-type {\n",
              "        vertical-align: middle;\n",
              "    }\n",
              "\n",
              "    .dataframe tbody tr th {\n",
              "        vertical-align: top;\n",
              "    }\n",
              "\n",
              "    .dataframe thead th {\n",
              "        text-align: right;\n",
              "    }\n",
              "</style>\n",
              "<table border=\"1\" class=\"dataframe\">\n",
              "  <thead>\n",
              "    <tr style=\"text-align: right;\">\n",
              "      <th></th>\n",
              "      <th>Unnamed: 0</th>\n",
              "      <th>0</th>\n",
              "      <th>1</th>\n",
              "      <th>2</th>\n",
              "      <th>senti</th>\n",
              "    </tr>\n",
              "  </thead>\n",
              "  <tbody>\n",
              "    <tr>\n",
              "      <th>0</th>\n",
              "      <td>0</td>\n",
              "      <td>메뉴가 상당히많아요다른 손님은 뭐먹나봤더니 다들 메뉴가 다양했어요저희는 평일 늦은시...</td>\n",
              "      <td>There are a lot of menusI looked at what other...</td>\n",
              "      <td>6.0</td>\n",
              "      <td>pos</td>\n",
              "    </tr>\n",
              "    <tr>\n",
              "      <th>1</th>\n",
              "      <td>1</td>\n",
              "      <td>.</td>\n",
              "      <td>.</td>\n",
              "      <td>0.0</td>\n",
              "      <td>neutral</td>\n",
              "    </tr>\n",
              "    <tr>\n",
              "      <th>2</th>\n",
              "      <td>2</td>\n",
              "      <td>드디어 호호식당에 입성했네요. 줄이 너무 길어서 그냥 지나쳤었는데..^^ 역시 평일...</td>\n",
              "      <td>Finally, we're in Ho-Ho restaurant. The line w...</td>\n",
              "      <td>2.0</td>\n",
              "      <td>pos</td>\n",
              "    </tr>\n",
              "    <tr>\n",
              "      <th>3</th>\n",
              "      <td>3</td>\n",
              "      <td>혜화에 갈 때마다 웨이팅이 있어 늘 궁금했던 곳이다.하지만 웨이팅을 싫어하기에 쉽게...</td>\n",
              "      <td>Whenever I went to Hyehwa, there was a waiting...</td>\n",
              "      <td>12.0</td>\n",
              "      <td>pos</td>\n",
              "    </tr>\n",
              "    <tr>\n",
              "      <th>4</th>\n",
              "      <td>4</td>\n",
              "      <td>히레카츠랑 사케동을 시켰다. 맛은 평범했고 특유의 가게 인테리어와 디자인은 상당히 ...</td>\n",
              "      <td>I ordered hirekatsu and sake dong. The taste w...</td>\n",
              "      <td>5.0</td>\n",
              "      <td>pos</td>\n",
              "    </tr>\n",
              "    <tr>\n",
              "      <th>...</th>\n",
              "      <td>...</td>\n",
              "      <td>...</td>\n",
              "      <td>...</td>\n",
              "      <td>...</td>\n",
              "      <td>...</td>\n",
              "    </tr>\n",
              "    <tr>\n",
              "      <th>123</th>\n",
              "      <td>18</td>\n",
              "      <td>한옥에서 맛보는 일식^.^ 위장이 큰 사람에겐 조금 아쉬울 수 있어요!원래 찜마니 ...</td>\n",
              "      <td>Japanese food you can taste in Hanok.^ It can ...</td>\n",
              "      <td>32.0</td>\n",
              "      <td>pos</td>\n",
              "    </tr>\n",
              "    <tr>\n",
              "      <th>124</th>\n",
              "      <td>19</td>\n",
              "      <td>맛있어요 분위기도 괜찮고 새로만들어서 깔끔합니다. 분위기랑 맛 대비 가성비도 굳.</td>\n",
              "      <td>It's good. The atmosphere is good, and it's cl...</td>\n",
              "      <td>12.0</td>\n",
              "      <td>pos</td>\n",
              "    </tr>\n",
              "    <tr>\n",
              "      <th>125</th>\n",
              "      <td>20</td>\n",
              "      <td>대학로 소나무길에 새로 생긴 일본 가정식 \"호호식당\". 누가 성균관대 맛집을 물어본...</td>\n",
              "      <td>The new Japanese home-style \"Ho Ho Restaurant\"...</td>\n",
              "      <td>44.0</td>\n",
              "      <td>pos</td>\n",
              "    </tr>\n",
              "    <tr>\n",
              "      <th>126</th>\n",
              "      <td>21</td>\n",
              "      <td>우선 예쁘니까 반절은 먹고 들어가는 곳사케동이고 뭐고 다 맛 보다 그 분위기에 취해...</td>\n",
              "      <td>Since it's pretty, I think half of it tastes b...</td>\n",
              "      <td>1.0</td>\n",
              "      <td>pos</td>\n",
              "    </tr>\n",
              "    <tr>\n",
              "      <th>127</th>\n",
              "      <td>22</td>\n",
              "      <td>Absolutely love this beautiful restaurant. Set...</td>\n",
              "      <td>Absolutely love this beautiful restaurant. Set...</td>\n",
              "      <td>11.0</td>\n",
              "      <td>pos</td>\n",
              "    </tr>\n",
              "  </tbody>\n",
              "</table>\n",
              "<p>128 rows × 5 columns</p>\n",
              "</div>\n",
              "      <button class=\"colab-df-convert\" onclick=\"convertToInteractive('df-abb0febb-0de0-4c24-98ca-7809506e8e2c')\"\n",
              "              title=\"Convert this dataframe to an interactive table.\"\n",
              "              style=\"display:none;\">\n",
              "        \n",
              "  <svg xmlns=\"http://www.w3.org/2000/svg\" height=\"24px\"viewBox=\"0 0 24 24\"\n",
              "       width=\"24px\">\n",
              "    <path d=\"M0 0h24v24H0V0z\" fill=\"none\"/>\n",
              "    <path d=\"M18.56 5.44l.94 2.06.94-2.06 2.06-.94-2.06-.94-.94-2.06-.94 2.06-2.06.94zm-11 1L8.5 8.5l.94-2.06 2.06-.94-2.06-.94L8.5 2.5l-.94 2.06-2.06.94zm10 10l.94 2.06.94-2.06 2.06-.94-2.06-.94-.94-2.06-.94 2.06-2.06.94z\"/><path d=\"M17.41 7.96l-1.37-1.37c-.4-.4-.92-.59-1.43-.59-.52 0-1.04.2-1.43.59L10.3 9.45l-7.72 7.72c-.78.78-.78 2.05 0 2.83L4 21.41c.39.39.9.59 1.41.59.51 0 1.02-.2 1.41-.59l7.78-7.78 2.81-2.81c.8-.78.8-2.07 0-2.86zM5.41 20L4 18.59l7.72-7.72 1.47 1.35L5.41 20z\"/>\n",
              "  </svg>\n",
              "      </button>\n",
              "      \n",
              "  <style>\n",
              "    .colab-df-container {\n",
              "      display:flex;\n",
              "      flex-wrap:wrap;\n",
              "      gap: 12px;\n",
              "    }\n",
              "\n",
              "    .colab-df-convert {\n",
              "      background-color: #E8F0FE;\n",
              "      border: none;\n",
              "      border-radius: 50%;\n",
              "      cursor: pointer;\n",
              "      display: none;\n",
              "      fill: #1967D2;\n",
              "      height: 32px;\n",
              "      padding: 0 0 0 0;\n",
              "      width: 32px;\n",
              "    }\n",
              "\n",
              "    .colab-df-convert:hover {\n",
              "      background-color: #E2EBFA;\n",
              "      box-shadow: 0px 1px 2px rgba(60, 64, 67, 0.3), 0px 1px 3px 1px rgba(60, 64, 67, 0.15);\n",
              "      fill: #174EA6;\n",
              "    }\n",
              "\n",
              "    [theme=dark] .colab-df-convert {\n",
              "      background-color: #3B4455;\n",
              "      fill: #D2E3FC;\n",
              "    }\n",
              "\n",
              "    [theme=dark] .colab-df-convert:hover {\n",
              "      background-color: #434B5C;\n",
              "      box-shadow: 0px 1px 3px 1px rgba(0, 0, 0, 0.15);\n",
              "      filter: drop-shadow(0px 1px 2px rgba(0, 0, 0, 0.3));\n",
              "      fill: #FFFFFF;\n",
              "    }\n",
              "  </style>\n",
              "\n",
              "      <script>\n",
              "        const buttonEl =\n",
              "          document.querySelector('#df-abb0febb-0de0-4c24-98ca-7809506e8e2c button.colab-df-convert');\n",
              "        buttonEl.style.display =\n",
              "          google.colab.kernel.accessAllowed ? 'block' : 'none';\n",
              "\n",
              "        async function convertToInteractive(key) {\n",
              "          const element = document.querySelector('#df-abb0febb-0de0-4c24-98ca-7809506e8e2c');\n",
              "          const dataTable =\n",
              "            await google.colab.kernel.invokeFunction('convertToInteractive',\n",
              "                                                     [key], {});\n",
              "          if (!dataTable) return;\n",
              "\n",
              "          const docLinkHtml = 'Like what you see? Visit the ' +\n",
              "            '<a target=\"_blank\" href=https://colab.research.google.com/notebooks/data_table.ipynb>data table notebook</a>'\n",
              "            + ' to learn more about interactive tables.';\n",
              "          element.innerHTML = '';\n",
              "          dataTable['output_type'] = 'display_data';\n",
              "          await google.colab.output.renderOutput(dataTable, element);\n",
              "          const docLink = document.createElement('div');\n",
              "          docLink.innerHTML = docLinkHtml;\n",
              "          element.appendChild(docLink);\n",
              "        }\n",
              "      </script>\n",
              "    </div>\n",
              "  </div>\n",
              "  "
            ]
          },
          "metadata": {},
          "execution_count": 20
        }
      ],
      "source": [
        "new_df"
      ]
    },
    {
      "cell_type": "code",
      "execution_count": null,
      "metadata": {
        "id": "y10v8Nss9eca"
      },
      "outputs": [],
      "source": [
        "kor=h1['0']+h2['0']"
      ]
    },
    {
      "cell_type": "code",
      "execution_count": null,
      "metadata": {
        "colab": {
          "base_uri": "https://localhost:8080/"
        },
        "id": "1LnhjInf-pDf",
        "outputId": "f7c18465-808e-4d68-da4f-dd86cfacc7d2"
      },
      "outputs": [
        {
          "data": {
            "text/plain": [
              "pandas.core.series.Series"
            ]
          },
          "execution_count": 40,
          "metadata": {},
          "output_type": "execute_result"
        }
      ],
      "source": [
        "type(h1['0'])"
      ]
    },
    {
      "cell_type": "code",
      "execution_count": null,
      "metadata": {
        "colab": {
          "base_uri": "https://localhost:8080/"
        },
        "id": "nPiBwjoGxwSc",
        "outputId": "f9650229-0cd5-4e19-ae9e-ff3f308a5041"
      },
      "outputs": [
        {
          "output_type": "execute_result",
          "data": {
            "text/plain": [
              "0                                                      .\n",
              "1                                                      .\n",
              "2                                                      .\n",
              "3                                      좋아하는곳이지만 점점 짜지는느낌\n",
              "4      장어덥밥 맛있음 웨이팅하는데 의자에 앉으라고 강요함앉든서있든은 내 자유아님? 서있으...\n",
              "                             ...                        \n",
              "160                         맛있음1시간 반 기다려서 15분만에 먹고나온곳...\n",
              "161    평일 오후 12시15분즘 가봤는데 30분 대기했어요. 대기하는거 안좋아하는데 유명하...\n",
              "162                                                    .\n",
              "163    기다리지 않는다면 별4개한옥에서 일본가정식. 1시간넘게 기다린다면 과감히 딴 곳을 ...\n",
              "164    대기는 1시간 정도 있었다. 그래도 선주문을 받아 음식은 빨리 나오는 편.새우튀김과...\n",
              "Name: review, Length: 165, dtype: object"
            ]
          },
          "metadata": {},
          "execution_count": 8
        }
      ],
      "source": [
        "train_review =  train[\"review\"]\n",
        "train_review"
      ]
    },
    {
      "cell_type": "code",
      "execution_count": null,
      "metadata": {
        "colab": {
          "base_uri": "https://localhost:8080/"
        },
        "id": "mLuBUZd67PjU",
        "outputId": "94c59e89-36c7-4c3d-b95e-e5034f95883c"
      },
      "outputs": [
        {
          "output_type": "execute_result",
          "data": {
            "text/plain": [
              "165"
            ]
          },
          "metadata": {},
          "execution_count": 9
        }
      ],
      "source": [
        "len(train_review)"
      ]
    },
    {
      "cell_type": "code",
      "execution_count": null,
      "metadata": {
        "id": "znZEhZHi8OY1"
      },
      "outputs": [],
      "source": [
        "train_review_kor=train_review[50:165] # 자기가 분석할 범위입력(100~200이면 100:200)"
      ]
    },
    {
      "cell_type": "code",
      "execution_count": null,
      "metadata": {
        "colab": {
          "base_uri": "https://localhost:8080/"
        },
        "id": "jfVHE0Mv8Cdj",
        "outputId": "4f7589ca-df27-45e1-ea80-4e6d3d6a7c7b"
      },
      "outputs": [
        {
          "output_type": "execute_result",
          "data": {
            "text/plain": [
              "115"
            ]
          },
          "metadata": {},
          "execution_count": 11
        }
      ],
      "source": [
        "len(train_review_kor)"
      ]
    },
    {
      "cell_type": "code",
      "execution_count": null,
      "metadata": {
        "colab": {
          "base_uri": "https://localhost:8080/"
        },
        "id": "BIoV6jg5apVP",
        "outputId": "f86e66a0-a249-44be-b925-6557d9be2d01"
      },
      "outputs": [
        {
          "output_type": "execute_result",
          "data": {
            "text/plain": [
              "50     돈테키정식(16 0)이랑 사케동(13.0) 먹었는데돈테키에서 돼지누린내남..사케동도...\n",
              "51     저번에 너무 맛있어서 다시 갔는데 저녁오픈때 다섯번째팀인가?로 들어갔음에도 불구하고...\n",
              "52                                                     .\n",
              "53                        먹을만함 음식 빨리나옴 웨이팅 별로 안긺사람 너무 많음\n",
              "54                                                     .\n",
              "                             ...                        \n",
              "160                         맛있음1시간 반 기다려서 15분만에 먹고나온곳...\n",
              "161    평일 오후 12시15분즘 가봤는데 30분 대기했어요. 대기하는거 안좋아하는데 유명하...\n",
              "162                                                    .\n",
              "163    기다리지 않는다면 별4개한옥에서 일본가정식. 1시간넘게 기다린다면 과감히 딴 곳을 ...\n",
              "164    대기는 1시간 정도 있었다. 그래도 선주문을 받아 음식은 빨리 나오는 편.새우튀김과...\n",
              "Name: review, Length: 115, dtype: object"
            ]
          },
          "metadata": {},
          "execution_count": 12
        }
      ],
      "source": [
        "train_review_kor"
      ]
    },
    {
      "cell_type": "code",
      "execution_count": null,
      "metadata": {
        "colab": {
          "base_uri": "https://localhost:8080/"
        },
        "id": "loO2Dmru8XYZ",
        "outputId": "d9fca9ba-ca68-4f94-f8ef-1b2aaec74c6c"
      },
      "outputs": [
        {
          "output_type": "execute_result",
          "data": {
            "text/plain": [
              "115"
            ]
          },
          "metadata": {},
          "execution_count": 13
        }
      ],
      "source": [
        "len(train_review_kor)"
      ]
    },
    {
      "cell_type": "code",
      "execution_count": null,
      "metadata": {
        "colab": {
          "base_uri": "https://localhost:8080/",
          "height": 35
        },
        "id": "Av5HnuLd2j6a",
        "outputId": "668a229f-f13c-46f1-b400-afce41684bab"
      },
      "outputs": [
        {
          "output_type": "execute_result",
          "data": {
            "text/plain": [
              "'.'"
            ],
            "application/vnd.google.colaboratory.intrinsic+json": {
              "type": "string"
            }
          },
          "metadata": {},
          "execution_count": 14
        }
      ],
      "source": [
        "train_review[0]"
      ]
    },
    {
      "cell_type": "code",
      "execution_count": null,
      "metadata": {
        "id": "1BiD6ulIyHBS"
      },
      "outputs": [],
      "source": [
        "c_result_list = []"
      ]
    },
    {
      "cell_type": "code",
      "execution_count": null,
      "metadata": {
        "id": "aNH08wbEq3oW"
      },
      "outputs": [],
      "source": [
        "import requests\n",
        "\n",
        "def get_translate(text):\n",
        "    client_id = \"UI7eTVsGJtT1KN1FndEJ\" # <-- client_id 기입\n",
        "    client_secret = \"zCCAFV0P2Q\" # <-- client_secret 기입\n",
        "\n",
        "    data = {'text' : text,\n",
        "            'source' : 'ko',\n",
        "            'target': 'en'}\n",
        "\n",
        "    url = \"https://openapi.naver.com/v1/papago/n2mt\"\n",
        "\n",
        "    header = {\"X-Naver-Client-Id\":client_id,\n",
        "              \"X-Naver-Client-Secret\":client_secret}\n",
        "\n",
        "    response = requests.post(url, headers=header, data=data)\n",
        "    rescode = response.status_code\n",
        "\n",
        "    if(rescode==200):\n",
        "        send_data = response.json()\n",
        "        trans_data = (send_data['message']['result']['translatedText'])\n",
        "        return trans_data\n",
        "    else:\n",
        "        print(\"Error Code:\" , rescode)"
      ]
    },
    {
      "cell_type": "code",
      "execution_count": null,
      "metadata": {
        "id": "uzk8tdgz5naC"
      },
      "outputs": [],
      "source": [
        "# for i in range(150,200):\n",
        "#   result_t=get_translate(train_review[i])\n",
        "#   c_result_list.append(result_t) #1회차"
      ]
    },
    {
      "cell_type": "code",
      "execution_count": null,
      "metadata": {
        "id": "hb1OFp4U-tcj"
      },
      "outputs": [],
      "source": [
        "for i in range(50,165): #범위 입력(100에서 200이면 100,200으로)\n",
        "  result_t=get_translate(train_review[i])\n",
        "  c_result_list.append(result_t)"
      ]
    },
    {
      "cell_type": "code",
      "execution_count": null,
      "metadata": {
        "colab": {
          "base_uri": "https://localhost:8080/"
        },
        "id": "s0YpFmlD41mH",
        "outputId": "3d49a910-293c-49fd-8c2a-5dad3c37f9e1"
      },
      "outputs": [
        {
          "output_type": "execute_result",
          "data": {
            "text/plain": [
              "115"
            ]
          },
          "metadata": {},
          "execution_count": 18
        }
      ],
      "source": [
        "len(c_result_list)"
      ]
    },
    {
      "cell_type": "code",
      "execution_count": null,
      "metadata": {
        "id": "UzTVrGqf2EWS"
      },
      "outputs": [],
      "source": [
        "c=c_result_list[0:50]"
      ]
    },
    {
      "cell_type": "code",
      "execution_count": null,
      "metadata": {
        "id": "tB0u24Oz3-KI"
      },
      "outputs": [],
      "source": [
        "c"
      ]
    },
    {
      "cell_type": "code",
      "execution_count": null,
      "metadata": {
        "id": "J83kRivk0Em1"
      },
      "outputs": [],
      "source": [
        "c_result_list"
      ]
    },
    {
      "cell_type": "code",
      "execution_count": null,
      "metadata": {
        "id": "KmIpsrnGzPrQ"
      },
      "outputs": [],
      "source": [
        "a=c_result_list[0:35]"
      ]
    },
    {
      "cell_type": "code",
      "execution_count": null,
      "metadata": {
        "id": "rkHNnZh9zYJI"
      },
      "outputs": [],
      "source": [
        "a"
      ]
    },
    {
      "cell_type": "code",
      "execution_count": null,
      "metadata": {
        "id": "0Ow3hpnk1Ush"
      },
      "outputs": [],
      "source": [
        "b=c_result_list"
      ]
    },
    {
      "cell_type": "code",
      "execution_count": null,
      "metadata": {
        "id": "LCON8Q911YZR"
      },
      "outputs": [],
      "source": [
        "new=a+b+c"
      ]
    },
    {
      "cell_type": "code",
      "execution_count": null,
      "metadata": {
        "id": "Hs3xHqnt4DyH"
      },
      "outputs": [],
      "source": [
        "new"
      ]
    },
    {
      "cell_type": "code",
      "execution_count": null,
      "metadata": {
        "colab": {
          "base_uri": "https://localhost:8080/"
        },
        "id": "D8Xg0kMr1a4p",
        "outputId": "e6ae848d-6683-46ac-bc1d-99e3aaee8de3"
      },
      "outputs": [
        {
          "output_type": "execute_result",
          "data": {
            "text/plain": [
              "105"
            ]
          },
          "metadata": {},
          "execution_count": 87
        }
      ],
      "source": [
        "len(new)"
      ]
    },
    {
      "cell_type": "code",
      "execution_count": null,
      "metadata": {
        "id": "eonYWC-S25Tg"
      },
      "outputs": [],
      "source": [
        "c_result_list"
      ]
    },
    {
      "cell_type": "code",
      "execution_count": null,
      "metadata": {
        "id": "v0vpGa5OkSsH"
      },
      "outputs": [],
      "source": [
        "from afinn import Afinn\n",
        "\n",
        "review_score=[]\n",
        "afinn = Afinn()\n",
        "for i in range(len(c_result_list)):\n",
        "  review_score.append(afinn.score(c_result_list[i]))\n"
      ]
    },
    {
      "cell_type": "code",
      "execution_count": null,
      "metadata": {
        "id": "JGXNMSlG2k-s"
      },
      "outputs": [],
      "source": [
        "from afinn import Afinn\n",
        "\n",
        "review_score=[]\n",
        "afinn = Afinn()\n",
        "for i in range(len(c)):\n",
        "  review_score.append(afinn.score(c[i]))"
      ]
    },
    {
      "cell_type": "code",
      "execution_count": null,
      "metadata": {
        "colab": {
          "base_uri": "https://localhost:8080/"
        },
        "id": "JSJBnuuSoGUy",
        "outputId": "c09fdf6a-ff4d-49c7-fdf9-806a6c3d0dfe"
      },
      "outputs": [
        {
          "output_type": "execute_result",
          "data": {
            "text/plain": [
              "[5.0,\n",
              " 3.0,\n",
              " 0.0,\n",
              " 2.0,\n",
              " 0.0,\n",
              " 0.0,\n",
              " -2.0,\n",
              " 1.0,\n",
              " 6.0,\n",
              " 5.0,\n",
              " 0.0,\n",
              " 9.0,\n",
              " 0.0,\n",
              " 3.0,\n",
              " -4.0,\n",
              " 0.0,\n",
              " 2.0,\n",
              " 0.0,\n",
              " 2.0,\n",
              " 0.0,\n",
              " 0.0,\n",
              " 6.0,\n",
              " 0.0,\n",
              " 2.0,\n",
              " 0.0,\n",
              " -1.0,\n",
              " 0.0,\n",
              " 5.0,\n",
              " -2.0,\n",
              " 2.0,\n",
              " 0.0,\n",
              " 3.0,\n",
              " -3.0,\n",
              " 1.0,\n",
              " 0.0,\n",
              " 0.0,\n",
              " 0.0,\n",
              " 5.0,\n",
              " 0.0,\n",
              " 11.0,\n",
              " 0.0,\n",
              " -4.0,\n",
              " 0.0,\n",
              " 1.0,\n",
              " 5.0,\n",
              " 2.0,\n",
              " 11.0,\n",
              " 0.0,\n",
              " 11.0,\n",
              " 4.0,\n",
              " 1.0,\n",
              " 6.0,\n",
              " 3.0,\n",
              " 6.0,\n",
              " 2.0,\n",
              " -3.0,\n",
              " -3.0,\n",
              " 0.0,\n",
              " 5.0,\n",
              " 5.0,\n",
              " 5.0,\n",
              " 0.0,\n",
              " 0.0,\n",
              " 0.0,\n",
              " 1.0,\n",
              " 0.0,\n",
              " 0.0,\n",
              " 9.0,\n",
              " 5.0,\n",
              " 0.0,\n",
              " 0.0,\n",
              " 5.0,\n",
              " 9.0,\n",
              " -3.0,\n",
              " -1.0,\n",
              " 6.0,\n",
              " -3.0,\n",
              " 0.0,\n",
              " 3.0,\n",
              " 8.0,\n",
              " 4.0,\n",
              " 3.0,\n",
              " 0.0,\n",
              " 3.0,\n",
              " 0.0,\n",
              " 5.0,\n",
              " -4.0,\n",
              " 0.0,\n",
              " 0.0,\n",
              " 0.0,\n",
              " -1.0,\n",
              " 0.0,\n",
              " 0.0,\n",
              " 8.0,\n",
              " 9.0,\n",
              " 2.0,\n",
              " 0.0,\n",
              " -1.0,\n",
              " 0.0,\n",
              " 5.0,\n",
              " 0.0,\n",
              " 0.0,\n",
              " 0.0,\n",
              " 0.0,\n",
              " 0.0,\n",
              " 2.0,\n",
              " 4.0,\n",
              " 0.0,\n",
              " 0.0,\n",
              " 0.0,\n",
              " 3.0,\n",
              " 13.0,\n",
              " 0.0,\n",
              " 2.0,\n",
              " 7.0]"
            ]
          },
          "metadata": {},
          "execution_count": 20
        }
      ],
      "source": [
        "review_score"
      ]
    },
    {
      "cell_type": "code",
      "execution_count": null,
      "metadata": {
        "id": "I3YE1GKS8HJP"
      },
      "outputs": [],
      "source": [
        "trans_pd=pd.DataFrame(zip(train_review_kor,c_result_list, review_score))"
      ]
    },
    {
      "cell_type": "code",
      "execution_count": null,
      "metadata": {
        "colab": {
          "base_uri": "https://localhost:8080/",
          "height": 424
        },
        "id": "TyUUw1OlhMyX",
        "outputId": "4bd0df8e-8fcc-437b-95eb-c823344317e0"
      },
      "outputs": [
        {
          "output_type": "execute_result",
          "data": {
            "text/plain": [
              "                                                     0  \\\n",
              "0    돈테키정식(16 0)이랑 사케동(13.0) 먹었는데돈테키에서 돼지누린내남..사케동도...   \n",
              "1    저번에 너무 맛있어서 다시 갔는데 저녁오픈때 다섯번째팀인가?로 들어갔음에도 불구하고...   \n",
              "2                                                    .   \n",
              "3                       먹을만함 음식 빨리나옴 웨이팅 별로 안긺사람 너무 많음   \n",
              "4                                                    .   \n",
              "..                                                 ...   \n",
              "110                       맛있음1시간 반 기다려서 15분만에 먹고나온곳...   \n",
              "111  평일 오후 12시15분즘 가봤는데 30분 대기했어요. 대기하는거 안좋아하는데 유명하...   \n",
              "112                                                  .   \n",
              "113  기다리지 않는다면 별4개한옥에서 일본가정식. 1시간넘게 기다린다면 과감히 딴 곳을 ...   \n",
              "114  대기는 1시간 정도 있었다. 그래도 선주문을 받아 음식은 빨리 나오는 편.새우튀김과...   \n",
              "\n",
              "                                                     1     2  \n",
              "0    I ate Donteki Meal (160) and Sake Dong (13.0),...   5.0  \n",
              "1    Last time, I went again because it was so deli...   3.0  \n",
              "2                                                    .   0.0  \n",
              "3    It's worth eating. Food comes out quickly. Wai...   2.0  \n",
              "4                                                    .   0.0  \n",
              "..                                                 ...   ...  \n",
              "110  If it's delicious, I waited for an hour and a ...   3.0  \n",
              "111  I went there at 12:15 p.m. on weekdays, and I ...  13.0  \n",
              "112                                                  .   0.0  \n",
              "113  If you don't wait, eat Japanese home-style foo...   2.0  \n",
              "114  The waiting time was about an hour. But I get ...   7.0  \n",
              "\n",
              "[115 rows x 3 columns]"
            ],
            "text/html": [
              "\n",
              "  <div id=\"df-2593bc29-2239-4a2c-91d8-060ee0fa4f1c\">\n",
              "    <div class=\"colab-df-container\">\n",
              "      <div>\n",
              "<style scoped>\n",
              "    .dataframe tbody tr th:only-of-type {\n",
              "        vertical-align: middle;\n",
              "    }\n",
              "\n",
              "    .dataframe tbody tr th {\n",
              "        vertical-align: top;\n",
              "    }\n",
              "\n",
              "    .dataframe thead th {\n",
              "        text-align: right;\n",
              "    }\n",
              "</style>\n",
              "<table border=\"1\" class=\"dataframe\">\n",
              "  <thead>\n",
              "    <tr style=\"text-align: right;\">\n",
              "      <th></th>\n",
              "      <th>0</th>\n",
              "      <th>1</th>\n",
              "      <th>2</th>\n",
              "    </tr>\n",
              "  </thead>\n",
              "  <tbody>\n",
              "    <tr>\n",
              "      <th>0</th>\n",
              "      <td>돈테키정식(16 0)이랑 사케동(13.0) 먹었는데돈테키에서 돼지누린내남..사케동도...</td>\n",
              "      <td>I ate Donteki Meal (160) and Sake Dong (13.0),...</td>\n",
              "      <td>5.0</td>\n",
              "    </tr>\n",
              "    <tr>\n",
              "      <th>1</th>\n",
              "      <td>저번에 너무 맛있어서 다시 갔는데 저녁오픈때 다섯번째팀인가?로 들어갔음에도 불구하고...</td>\n",
              "      <td>Last time, I went again because it was so deli...</td>\n",
              "      <td>3.0</td>\n",
              "    </tr>\n",
              "    <tr>\n",
              "      <th>2</th>\n",
              "      <td>.</td>\n",
              "      <td>.</td>\n",
              "      <td>0.0</td>\n",
              "    </tr>\n",
              "    <tr>\n",
              "      <th>3</th>\n",
              "      <td>먹을만함 음식 빨리나옴 웨이팅 별로 안긺사람 너무 많음</td>\n",
              "      <td>It's worth eating. Food comes out quickly. Wai...</td>\n",
              "      <td>2.0</td>\n",
              "    </tr>\n",
              "    <tr>\n",
              "      <th>4</th>\n",
              "      <td>.</td>\n",
              "      <td>.</td>\n",
              "      <td>0.0</td>\n",
              "    </tr>\n",
              "    <tr>\n",
              "      <th>...</th>\n",
              "      <td>...</td>\n",
              "      <td>...</td>\n",
              "      <td>...</td>\n",
              "    </tr>\n",
              "    <tr>\n",
              "      <th>110</th>\n",
              "      <td>맛있음1시간 반 기다려서 15분만에 먹고나온곳...</td>\n",
              "      <td>If it's delicious, I waited for an hour and a ...</td>\n",
              "      <td>3.0</td>\n",
              "    </tr>\n",
              "    <tr>\n",
              "      <th>111</th>\n",
              "      <td>평일 오후 12시15분즘 가봤는데 30분 대기했어요. 대기하는거 안좋아하는데 유명하...</td>\n",
              "      <td>I went there at 12:15 p.m. on weekdays, and I ...</td>\n",
              "      <td>13.0</td>\n",
              "    </tr>\n",
              "    <tr>\n",
              "      <th>112</th>\n",
              "      <td>.</td>\n",
              "      <td>.</td>\n",
              "      <td>0.0</td>\n",
              "    </tr>\n",
              "    <tr>\n",
              "      <th>113</th>\n",
              "      <td>기다리지 않는다면 별4개한옥에서 일본가정식. 1시간넘게 기다린다면 과감히 딴 곳을 ...</td>\n",
              "      <td>If you don't wait, eat Japanese home-style foo...</td>\n",
              "      <td>2.0</td>\n",
              "    </tr>\n",
              "    <tr>\n",
              "      <th>114</th>\n",
              "      <td>대기는 1시간 정도 있었다. 그래도 선주문을 받아 음식은 빨리 나오는 편.새우튀김과...</td>\n",
              "      <td>The waiting time was about an hour. But I get ...</td>\n",
              "      <td>7.0</td>\n",
              "    </tr>\n",
              "  </tbody>\n",
              "</table>\n",
              "<p>115 rows × 3 columns</p>\n",
              "</div>\n",
              "      <button class=\"colab-df-convert\" onclick=\"convertToInteractive('df-2593bc29-2239-4a2c-91d8-060ee0fa4f1c')\"\n",
              "              title=\"Convert this dataframe to an interactive table.\"\n",
              "              style=\"display:none;\">\n",
              "        \n",
              "  <svg xmlns=\"http://www.w3.org/2000/svg\" height=\"24px\"viewBox=\"0 0 24 24\"\n",
              "       width=\"24px\">\n",
              "    <path d=\"M0 0h24v24H0V0z\" fill=\"none\"/>\n",
              "    <path d=\"M18.56 5.44l.94 2.06.94-2.06 2.06-.94-2.06-.94-.94-2.06-.94 2.06-2.06.94zm-11 1L8.5 8.5l.94-2.06 2.06-.94-2.06-.94L8.5 2.5l-.94 2.06-2.06.94zm10 10l.94 2.06.94-2.06 2.06-.94-2.06-.94-.94-2.06-.94 2.06-2.06.94z\"/><path d=\"M17.41 7.96l-1.37-1.37c-.4-.4-.92-.59-1.43-.59-.52 0-1.04.2-1.43.59L10.3 9.45l-7.72 7.72c-.78.78-.78 2.05 0 2.83L4 21.41c.39.39.9.59 1.41.59.51 0 1.02-.2 1.41-.59l7.78-7.78 2.81-2.81c.8-.78.8-2.07 0-2.86zM5.41 20L4 18.59l7.72-7.72 1.47 1.35L5.41 20z\"/>\n",
              "  </svg>\n",
              "      </button>\n",
              "      \n",
              "  <style>\n",
              "    .colab-df-container {\n",
              "      display:flex;\n",
              "      flex-wrap:wrap;\n",
              "      gap: 12px;\n",
              "    }\n",
              "\n",
              "    .colab-df-convert {\n",
              "      background-color: #E8F0FE;\n",
              "      border: none;\n",
              "      border-radius: 50%;\n",
              "      cursor: pointer;\n",
              "      display: none;\n",
              "      fill: #1967D2;\n",
              "      height: 32px;\n",
              "      padding: 0 0 0 0;\n",
              "      width: 32px;\n",
              "    }\n",
              "\n",
              "    .colab-df-convert:hover {\n",
              "      background-color: #E2EBFA;\n",
              "      box-shadow: 0px 1px 2px rgba(60, 64, 67, 0.3), 0px 1px 3px 1px rgba(60, 64, 67, 0.15);\n",
              "      fill: #174EA6;\n",
              "    }\n",
              "\n",
              "    [theme=dark] .colab-df-convert {\n",
              "      background-color: #3B4455;\n",
              "      fill: #D2E3FC;\n",
              "    }\n",
              "\n",
              "    [theme=dark] .colab-df-convert:hover {\n",
              "      background-color: #434B5C;\n",
              "      box-shadow: 0px 1px 3px 1px rgba(0, 0, 0, 0.15);\n",
              "      filter: drop-shadow(0px 1px 2px rgba(0, 0, 0, 0.3));\n",
              "      fill: #FFFFFF;\n",
              "    }\n",
              "  </style>\n",
              "\n",
              "      <script>\n",
              "        const buttonEl =\n",
              "          document.querySelector('#df-2593bc29-2239-4a2c-91d8-060ee0fa4f1c button.colab-df-convert');\n",
              "        buttonEl.style.display =\n",
              "          google.colab.kernel.accessAllowed ? 'block' : 'none';\n",
              "\n",
              "        async function convertToInteractive(key) {\n",
              "          const element = document.querySelector('#df-2593bc29-2239-4a2c-91d8-060ee0fa4f1c');\n",
              "          const dataTable =\n",
              "            await google.colab.kernel.invokeFunction('convertToInteractive',\n",
              "                                                     [key], {});\n",
              "          if (!dataTable) return;\n",
              "\n",
              "          const docLinkHtml = 'Like what you see? Visit the ' +\n",
              "            '<a target=\"_blank\" href=https://colab.research.google.com/notebooks/data_table.ipynb>data table notebook</a>'\n",
              "            + ' to learn more about interactive tables.';\n",
              "          element.innerHTML = '';\n",
              "          dataTable['output_type'] = 'display_data';\n",
              "          await google.colab.output.renderOutput(dataTable, element);\n",
              "          const docLink = document.createElement('div');\n",
              "          docLink.innerHTML = docLinkHtml;\n",
              "          element.appendChild(docLink);\n",
              "        }\n",
              "      </script>\n",
              "    </div>\n",
              "  </div>\n",
              "  "
            ]
          },
          "metadata": {},
          "execution_count": 22
        }
      ],
      "source": [
        "trans_pd"
      ]
    },
    {
      "cell_type": "code",
      "execution_count": null,
      "metadata": {
        "id": "5EirqU-Ug2mz"
      },
      "outputs": [],
      "source": [
        "# #from sklearn.preprocessing import MinMaxScaler\n",
        "\n",
        "# # min-max 정규화 객체 생성\n",
        "# scaler = MinMaxScaler()\n",
        "\n",
        "# # min-max 정규화 적용\n",
        "# scaler.fit(rs_reshaped)\n",
        "# df_scaled = scaler.transform(rs_reshaped)\n",
        "\n",
        "# print(df_scaled)"
      ]
    },
    {
      "cell_type": "code",
      "execution_count": null,
      "metadata": {
        "id": "vqpOvMBX4-14"
      },
      "outputs": [],
      "source": [
        "trans_pd.to_csv('hoho_kakao_50_to_end.csv') \n",
        "#csv파일로 생성(자기가 번역한부분으로 이름 바꿔주세요 hoho_100_to_200이렇게) 여기까지!!! 아래껀 누르지말기"
      ]
    },
    {
      "cell_type": "code",
      "execution_count": 25,
      "metadata": {
        "id": "UVvDjvMFE5JD"
      },
      "outputs": [],
      "source": [
        "new_df.to_csv('hoho_RR_final.csv') "
      ]
    },
    {
      "cell_type": "code",
      "execution_count": null,
      "metadata": {
        "id": "3HRZDE5JCNeo"
      },
      "outputs": [],
      "source": [
        "df1 = pd.read_csv('/content/drive/MyDrive/mara0407_to_200.csv')"
      ]
    },
    {
      "cell_type": "code",
      "execution_count": null,
      "metadata": {
        "id": "vQ1My66xCmY4"
      },
      "outputs": [],
      "source": [
        "df2 = pd.read_csv('/content/drive/MyDrive/mara0408_to_200.csv')"
      ]
    },
    {
      "cell_type": "code",
      "execution_count": null,
      "metadata": {
        "colab": {
          "base_uri": "https://localhost:8080/",
          "height": 170
        },
        "id": "w2Cin0jqDgi1",
        "outputId": "809d75c6-a78e-4146-d585-42ca4947ed7a"
      },
      "outputs": [
        {
          "ename": "TypeError",
          "evalue": "ignored",
          "output_type": "error",
          "traceback": [
            "\u001b[0;31m---------------------------------------------------------------------------\u001b[0m",
            "\u001b[0;31mTypeError\u001b[0m                                 Traceback (most recent call last)",
            "\u001b[0;32m<ipython-input-44-68ad0849daf2>\u001b[0m in \u001b[0;36m<cell line: 1>\u001b[0;34m()\u001b[0m\n\u001b[0;32m----> 1\u001b[0;31m \u001b[0ma\u001b[0m\u001b[0;34m=\u001b[0m\u001b[0;34m(\u001b[0m\u001b[0mpd\u001b[0m\u001b[0;34m.\u001b[0m\u001b[0mconcat\u001b[0m\u001b[0;34m(\u001b[0m\u001b[0;34m[\u001b[0m\u001b[0mdf1\u001b[0m\u001b[0;34m]\u001b[0m\u001b[0;34m,\u001b[0m \u001b[0;34m[\u001b[0m\u001b[0mdf2\u001b[0m\u001b[0;34m]\u001b[0m\u001b[0;34m)\u001b[0m\u001b[0;34m)\u001b[0m\u001b[0;34m\u001b[0m\u001b[0;34m\u001b[0m\u001b[0m\n\u001b[0m",
            "\u001b[0;31mTypeError\u001b[0m: 'tuple' object is not callable"
          ]
        }
      ],
      "source": [
        "a=(pd.concat([df1], [df2]))"
      ]
    },
    {
      "cell_type": "code",
      "execution_count": null,
      "metadata": {
        "id": "Em_yyZPXEBDQ"
      },
      "outputs": [],
      "source": [
        "pd.concat\n"
      ]
    }
  ],
  "metadata": {
    "colab": {
      "provenance": []
    },
    "kernelspec": {
      "display_name": "Python 3",
      "name": "python3"
    },
    "language_info": {
      "name": "python"
    }
  },
  "nbformat": 4,
  "nbformat_minor": 0
}